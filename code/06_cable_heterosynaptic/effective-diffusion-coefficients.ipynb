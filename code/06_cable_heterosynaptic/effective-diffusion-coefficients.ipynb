{
 "cells": [
  {
   "cell_type": "markdown",
   "metadata": {},
   "source": [
    "# What is a reasonable diffusion coefficient for transported cargo?\n",
    "\n",
    "Single-particle tracking studies suggest that cargo undergoes long unidirectional runs in addition to bidirectional movements ([Dynes & Steward, 2006](http://dx.doi.org/10.1002/cne.21189), [Soundararajan & Bullock, 2014](http://dx.doi.org/10.7554/eLife.01596#sthash.owQem7IU.dpuf)). The unidirectional runs can lead to enhanced diffusion (supra-linear increases in mean-squared displacement over time); however, if particles fluctuate between unidirectional and bidirectional movement statistics, then it is plausible that the ensemble can be well-approximated by a single drift-diffusion process over long time periods ([Caspi, 2000](http://dx.doi.org/10.1103/PhysRevLett.85.5655)).\n",
    "\n",
    "In this notebook we explore what the effective diffusion coefficient might plausibly be in a biological system."
   ]
  },
  {
   "cell_type": "markdown",
   "metadata": {},
   "source": [
    "We model the movement of particles as a discrete-time random walk. The particles fluctuate between three states:\n",
    "\n",
    "* $S_0$ : bidirectional state (pure diffusion)\n",
    "* $S_+$ : Anterograde unidirectional movement\n",
    "* $S_-$ : Retrograde unidirectional movement"
   ]
  },
  {
   "cell_type": "markdown",
   "metadata": {},
   "source": [
    "The displacement of the particle, $x$, follows the discrete-time dynamics:\n",
    "\n",
    "$$\n",
    "x_{n+1} = (x_n + 1)p_+ + x_n p_0 + (x_n - 1)p_-\n",
    "$$"
   ]
  },
  {
   "cell_type": "markdown",
   "metadata": {},
   "source": [
    "where the probability of stepping right, nowhere, and left are respectively: $\\{p_+, p_0, p_-\\}$. These probabilities are:\n",
    "\n",
    "$$\n",
    "p_+ = p \\left ( +~ \\big | ~S_+ \\right) p(S_+) + p \\left ( +~ \\big | ~S_0 \\right) p(S_0)\n",
    "$$\n",
    "\n",
    "$$\n",
    "p_0 = p \\left ( 0~ \\big | ~s_u \\right) p(S_0)\n",
    "$$\n",
    "\n",
    "$$\n",
    "p_- = p \\left ( -~ \\big | ~S_- \\right) p(S_-) + p \\left ( -~ \\big | ~S_0 \\right) p(S_0)\n",
    "$$\n",
    "\n",
    "We further assume that the bidirectional movement state has no drift term, which means:\n",
    "\n",
    "$$\n",
    "p \\left ( +~ \\big | ~S_0 \\right) = p \\left ( -~ \\big | ~S_0 \\right)\n",
    "$$"
   ]
  },
  {
   "cell_type": "markdown",
   "metadata": {},
   "source": [
    "To get a handle on this system, we assume that the transitions matrix is symmetric. As a consequence, there is no overall drift to the system &mdash; we make this simplification because we are interested in estimating reasonable bounds on the diffusion coefficient.\n",
    "\n",
    "$$\n",
    "Q = \\begin{bmatrix}\n",
    "    p_{S_+ \\rightarrow S_+} & p_{S_0 \\rightarrow S_+} & p_{S_- \\rightarrow S_+} \\\\\n",
    "    p_{S_+ \\rightarrow S_0} & p_{S_0 \\rightarrow S_0} & p_{S_- \\rightarrow S_0} \\\\\n",
    "    p_{S_+ \\rightarrow S_-} & p_{S_0 \\rightarrow S_-} & p_{S_- \\rightarrow S_-}\n",
    "\\end{bmatrix} = \\begin{bmatrix}\n",
    "    1-a-b & a & b \\\\\n",
    "    a & 1-2a & a \\\\\n",
    "    b & a & 1-a-b\n",
    "\\end{bmatrix}\n",
    "$$"
   ]
  },
  {
   "cell_type": "markdown",
   "metadata": {},
   "source": [
    "The state-transition matrix of the entire system (including transitions between $S$ and changes in position, $x$) is:\n",
    "\n",
    "$$\n",
    "\\{x+1,S_+\\} \\\\\n",
    "\\{x,S_+\\} \\\\\n",
    "\\{x-1,S_+\\} \\\\\n",
    "\\{x+1,S_0\\} \\\\\n",
    "\\{x,S_0\\} \\\\\n",
    "\\{x-1,S_0\\} \\\\\n",
    "\\{x+1,S_-\\} \\\\\n",
    "\\{x,S_-\\} \\\\\n",
    "\\{x-1,S_-\\} \\\\\n",
    "$$\n",
    "\n",
    "$$\n",
    "M = \\begin{bmatrix}\n",
    "    p_{\\{x,S_0\\} \\rightarrow \\{x+1,S_0\\}} \\\\\n",
    "    p_{\\{x,S_0\\} \\rightarrow \\{x+1,S_+\\}} \\\\\n",
    "    p_{\\{x,S_0\\} \\rightarrow \\{x+1,S_-\\}} \\\\\n",
    "    p_{\\{x,S_0\\} \\rightarrow \\{x,S_0\\}} \\\\\n",
    "    p_{\\{x,S_0\\} \\rightarrow \\{x,S_+\\}} \\\\\n",
    "    p_{\\{x,S_0\\} \\rightarrow \\{x,S_-\\}} \\\\\n",
    "    p_{\\{x,S_0\\} \\rightarrow \\{x-1,S_0\\}} \\\\\n",
    "    p_{\\{x,S_0\\} \\rightarrow \\{x-1,S_+\\}} \\\\\n",
    "    p_{\\{x,S_0\\} \\rightarrow \\{x-1,S_-\\}}\n",
    "\\end{bmatrix}\n",
    "$$\n",
    "\n",
    "\n",
    "$$\n",
    "\\begin{array}\n",
    "pp_{\\{x-1,S_-\\} \\rightarrow \\{x,S_0\\}} & p_{\\{x,S_-\\} \\rightarrow \\{x,S_0\\}} & p_{\\{x+1,S_-\\} \\rightarrow \\{x,S_0\\}} & p_{\\{x-1,S_0\\} \\rightarrow \\{x,S_0\\}} & p_{\\{x,S_0\\} \\rightarrow \\{x,S_0\\}} & p_{\\{x+1,S_0\\} \\rightarrow \\{x,S_0\\}} & p_{\\{x-1,S_+\\} \\rightarrow \\{x,S_0\\}} & p_{\\{x,S_+\\} \\rightarrow \\{x,S_0\\}} & p_{\\{x+1,S_+\\} \\rightarrow \\{x,S_0\\}}\n",
    "\\end{array}\n",
    "$$"
   ]
  },
  {
   "cell_type": "markdown",
   "metadata": {},
   "source": [
    "$$\n",
    "\\begin{array}\n",
    "pp_{\\{x-1,S_-\\} \\rightarrow \\{x-1,S_-\\}} &\n",
    "p_{\\{x-1,S_0\\} \\rightarrow \\{x-1,S_-\\}} &\n",
    "p_{\\{x-1,S_+\\} \\rightarrow \\{x-1,S_-\\}} &\n",
    "p_{\\{x,S_-\\} \\rightarrow \\{x-1,S_-\\}} &\n",
    "p_{\\{x,S_0\\} \\rightarrow \\{x-1,S_-\\}} &\n",
    "p_{\\{x,S_+\\} \\rightarrow \\{x-1,S_-\\}} &\n",
    "p_{\\{x+1,S_-\\} \\rightarrow \\{x-1,S_-\\}} &\n",
    "p_{\\{x+1,S_0\\} \\rightarrow \\{x-1,S_-\\}} &\n",
    "p_{\\{x+1,S_+\\} \\rightarrow \\{x-1,S_-\\}} \\\\\n",
    "p_{\\{x-1,S_-\\} \\rightarrow \\{x-1,S_0\\}} &\n",
    "p_{\\{x-1,S_0\\} \\rightarrow \\{x-1,S_0\\}} &\n",
    "p_{\\{x-1,S_+\\} \\rightarrow \\{x-1,S_0\\}} &\n",
    "p_{\\{x,S_-\\} \\rightarrow \\{x-1,S_0\\}} &\n",
    "p_{\\{x,S_0\\} \\rightarrow \\{x-1,S_0\\}} &\n",
    "p_{\\{x,S_+\\} \\rightarrow \\{x-1,S_0\\}} &\n",
    "p_{\\{x+1,S_-\\} \\rightarrow \\{x-1,S_0\\}} &\n",
    "p_{\\{x+1,S_0\\} \\rightarrow \\{x-1,S_0\\}} &\n",
    "p_{\\{x+1,S_+\\} \\rightarrow \\{x-1,S_0\\}} \\\\\n",
    "p_{\\{x-1,S_-\\} \\rightarrow \\{x-1,S_+\\}} &\n",
    "p_{\\{x-1,S_0\\} \\rightarrow \\{x-1,S_+\\}} &\n",
    "p_{\\{x-1,S_+\\} \\rightarrow \\{x-1,S_+\\}} &\n",
    "p_{\\{x,S_-\\} \\rightarrow \\{x-1,S_+\\}} &\n",
    "p_{\\{x,S_0\\} \\rightarrow \\{x-1,S_+\\}} &\n",
    "p_{\\{x,S_+\\} \\rightarrow \\{x-1,S_+\\}} &\n",
    "p_{\\{x+1,S_-\\} \\rightarrow \\{x-1,S_+\\}} &\n",
    "p_{\\{x+1,S_0\\} \\rightarrow \\{x-1,S_+\\}} &\n",
    "p_{\\{x+1,S_+\\} \\rightarrow \\{x-1,S_+\\}} \\\\\n",
    "p_{\\{x-1,S_-\\} \\rightarrow \\{x,S_-\\}} &\n",
    "p_{\\{x-1,S_0\\} \\rightarrow \\{x,S_-\\}} &\n",
    "p_{\\{x-1,S_+\\} \\rightarrow \\{x,S_-\\}} &\n",
    "p_{\\{x,S_-\\} \\rightarrow \\{x,S_-\\}} &\n",
    "p_{\\{x,S_0\\} \\rightarrow \\{x,S_-\\}} &\n",
    "p_{\\{x,S_+\\} \\rightarrow \\{x,S_-\\}} &\n",
    "p_{\\{x+1,S_-\\} \\rightarrow \\{x,S_-\\}} &\n",
    "p_{\\{x+1,S_0\\} \\rightarrow \\{x,S_-\\}} &\n",
    "p_{\\{x+1,S_+\\} \\rightarrow \\{x,S_-\\}} \\\\\n",
    "p_{\\{x-1,S_-\\} \\rightarrow \\{x,S_0\\}} &\n",
    "p_{\\{x-1,S_0\\} \\rightarrow \\{x,S_0\\}} &\n",
    "p_{\\{x-1,S_+\\} \\rightarrow \\{x,S_0\\}} &\n",
    "p_{\\{x,S_-\\} \\rightarrow \\{x,S_0\\}} &\n",
    "p_{\\{x,S_0\\} \\rightarrow \\{x,S_0\\}} &\n",
    "p_{\\{x,S_+\\} \\rightarrow \\{x,S_0\\}} &\n",
    "p_{\\{x+1,S_-\\} \\rightarrow \\{x,S_0\\}} &\n",
    "p_{\\{x+1,S_0\\} \\rightarrow \\{x,S_0\\}} &\n",
    "p_{\\{x+1,S_+\\} \\rightarrow \\{x,S_0\\}}\n",
    "\\end{array}\n",
    "$$"
   ]
  },
  {
   "cell_type": "markdown",
   "metadata": {},
   "source": [
    "We assume that each time step is one second and each movement is 1 micron. This leads to a single-particle velocity of 60 microns per minute in the unidirectional state, which is in rough agreement with the maximal velocities in experimental measurments ([Dynes & Steward, 2006](http://dx.doi.org/10.1002/cne.21189), [Soundararajan & Bullock, 2014](http://dx.doi.org/10.7554/eLife.01596#sthash.owQem7IU.dpuf)).\n",
    "\n",
    "[Soundararajan & Bullock (2014)](http://dx.doi.org/10.7554/eLife.01596#sthash.owQem7IU.dpuf) estimate the diffusion coefficient *for bidirectional transport* to be $D = \\sigma^2/2 =$ ~0.08 $\\mu m^2 / s$ in *Drosophila* embryos, which appears roughly in line with other reports ([Caspi, 2000](http://dx.doi.org/10.1103/PhysRevLett.85.5655)). The variance of the random walk, $\\sigma^2$, after $n$ time steps in state $s_b$ is given by:\n",
    "\n",
    "$$ \\sigma^2_n ~\\big |~s_b = n \\cdot 0.16~\\mu m^2 / s =  n \\left( p \\left ( +~ \\big | ~s_b \\right) +  p \\left ( -~ \\big | ~s_b \\right) - \\left [ p \\left ( +~ \\big | ~s_b \\right) - p \\left ( -~ \\big | ~s_b \\right) \\right ]^2 \\right)$$"
   ]
  },
  {
   "cell_type": "markdown",
   "metadata": {},
   "source": [
    "# Simulations to confirm the above analysis:"
   ]
  },
  {
   "cell_type": "code",
   "execution_count": 46,
   "metadata": {
    "collapsed": true
   },
   "outputs": [],
   "source": [
    "import numpy as np\n",
    "import pylab as plt\n",
    "from scipy import stats\n",
    "%matplotlib inline"
   ]
  },
  {
   "cell_type": "code",
   "execution_count": 51,
   "metadata": {
    "collapsed": false
   },
   "outputs": [],
   "source": [
    "dt,tmax = 1,120 # seconds\n",
    "\n",
    "def get_Q(a,b):\n",
    "    Q = np.array([[1-a-b,   b  ,   a  ],\n",
    "                  [  b  , 1-2*b,   b  ],\n",
    "                  [  a  ,   b  , 1-a-b]])\n",
    "    w,v = np.linalg.eig(Q)\n",
    "    iw = np.argmax(w)\n",
    "    p_state = v[:,iw]/np.sum(v[:,iw]) # [p(s-),p(s0),p(s+)]\n",
    "    p_bidir = np.array([0.08,0.84,0.08]) # p(-|s0),p(0|s0),p(+|s0)\n",
    "    return Q,p_state,p_bidir\n",
    "\n",
    "def update(x,s):\n",
    "    # Draw a new state\n",
    "    s.append(np.random.choice(range(3),p=Q[:,s[-1]].flatten()))\n",
    "    # Update position\n",
    "    if s[-1] == 0:\n",
    "        x.append(x[-1]-1)\n",
    "    elif s[-1] == 2:\n",
    "        x.append(x[-1]+1)\n",
    "    else:\n",
    "        x.append(x[-1]+np.random.choice(range(3),p=p_bidir)-1)\n",
    "\n",
    "def markov_sim():\n",
    "    \"\"\"\n",
    "    n = number of simulations to run (only last sim is returned)\n",
    "    \"\"\"    \n",
    "    x = [0]          # initial position\n",
    "    s = [np.random.choice(range(3),p=p_state)] # initial state\n",
    "    t = 0            # initial time\n",
    "    while t < tmax:\n",
    "        t += dt\n",
    "        update(x,s)\n",
    "    return x,s\n",
    "\n",
    "def sim_ensemble(N):\n",
    "    \"\"\" N = number of molecules to simulate \"\"\"\n",
    "    X,S = np.zeros((1+tmax/dt,N)),np.zeros((1+tmax/dt,N))\n",
    "    for i in range(N):\n",
    "        x,s = markov_sim()\n",
    "        X[:,i] = x\n",
    "        S[:,i] = s\n",
    "\n",
    "    t = np.linspace(0,tmax,len(x))  # time axis\n",
    "    return t,X,S"
   ]
  },
  {
   "cell_type": "code",
   "execution_count": 52,
   "metadata": {
    "collapsed": false
   },
   "outputs": [
    {
     "name": "stdout",
     "output_type": "stream",
     "text": [
      "[[ 0.98  0.01  0.01]\n",
      " [ 0.01  0.98  0.01]\n",
      " [ 0.01  0.01  0.98]]\n",
      "(121, 500)\n",
      "[[ 0.87111111  0.11888889  0.01      ]\n",
      " [ 0.11888889  0.76222222  0.11888889]\n",
      " [ 0.01        0.11888889  0.87111111]]\n",
      "(121, 500)\n",
      "[[ 0.76222222  0.22777778  0.01      ]\n",
      " [ 0.22777778  0.54444444  0.22777778]\n",
      " [ 0.01        0.22777778  0.76222222]]\n",
      "(121, 500)\n",
      "[[ 0.65333333  0.33666667  0.01      ]\n",
      " [ 0.33666667  0.32666667  0.33666667]\n",
      " [ 0.01        0.33666667  0.65333333]]\n",
      "(121, 500)\n",
      "[[ 0.54444444  0.44555556  0.01      ]\n",
      " [ 0.44555556  0.10888889  0.44555556]\n",
      " [ 0.01        0.44555556  0.54444444]]\n",
      "(121, 500)\n",
      "[[ 0.43555556  0.55444444  0.01      ]\n",
      " [ 0.55444444 -0.10888889  0.55444444]\n",
      " [ 0.01        0.55444444  0.43555556]]\n"
     ]
    },
    {
     "ename": "ValueError",
     "evalue": "probabilities are not non-negative",
     "output_type": "error",
     "traceback": [
      "\u001b[0;31m---------------------------------------------------------------------------\u001b[0m",
      "\u001b[0;31mValueError\u001b[0m                                Traceback (most recent call last)",
      "\u001b[0;32m<ipython-input-52-efac9d917383>\u001b[0m in \u001b[0;36m<module>\u001b[0;34m()\u001b[0m\n\u001b[1;32m      6\u001b[0m     \u001b[0;32mfor\u001b[0m \u001b[0mb\u001b[0m \u001b[0;32min\u001b[0m \u001b[0mb_levels\u001b[0m\u001b[0;34m:\u001b[0m\u001b[0;34m\u001b[0m\u001b[0m\n\u001b[1;32m      7\u001b[0m         \u001b[0mQ\u001b[0m\u001b[0;34m,\u001b[0m\u001b[0mp_state\u001b[0m\u001b[0;34m,\u001b[0m\u001b[0mp_bidir\u001b[0m \u001b[0;34m=\u001b[0m \u001b[0mget_Q\u001b[0m\u001b[0;34m(\u001b[0m\u001b[0ma\u001b[0m\u001b[0;34m,\u001b[0m\u001b[0mb\u001b[0m\u001b[0;34m)\u001b[0m\u001b[0;34m\u001b[0m\u001b[0m\n\u001b[0;32m----> 8\u001b[0;31m         \u001b[0mt\u001b[0m\u001b[0;34m,\u001b[0m\u001b[0mX\u001b[0m\u001b[0;34m,\u001b[0m\u001b[0mS\u001b[0m \u001b[0;34m=\u001b[0m \u001b[0msim_ensemble\u001b[0m\u001b[0;34m(\u001b[0m\u001b[0;36m500\u001b[0m\u001b[0;34m)\u001b[0m\u001b[0;34m\u001b[0m\u001b[0m\n\u001b[0m\u001b[1;32m      9\u001b[0m \u001b[0;34m\u001b[0m\u001b[0m\n\u001b[1;32m     10\u001b[0m         \u001b[0;31m#state_distribution.append([np.mean(S[:,i]) for i in range(S.shape[1])])\u001b[0m\u001b[0;34m\u001b[0m\u001b[0;34m\u001b[0m\u001b[0m\n",
      "\u001b[0;32m<ipython-input-51-dddc4dfb13bf>\u001b[0m in \u001b[0;36msim_ensemble\u001b[0;34m(N)\u001b[0m\n\u001b[1;32m     39\u001b[0m     \u001b[0mX\u001b[0m\u001b[0;34m,\u001b[0m\u001b[0mS\u001b[0m \u001b[0;34m=\u001b[0m \u001b[0mnp\u001b[0m\u001b[0;34m.\u001b[0m\u001b[0mzeros\u001b[0m\u001b[0;34m(\u001b[0m\u001b[0;34m(\u001b[0m\u001b[0;36m1\u001b[0m\u001b[0;34m+\u001b[0m\u001b[0mtmax\u001b[0m\u001b[0;34m/\u001b[0m\u001b[0mdt\u001b[0m\u001b[0;34m,\u001b[0m\u001b[0mN\u001b[0m\u001b[0;34m)\u001b[0m\u001b[0;34m)\u001b[0m\u001b[0;34m,\u001b[0m\u001b[0mnp\u001b[0m\u001b[0;34m.\u001b[0m\u001b[0mzeros\u001b[0m\u001b[0;34m(\u001b[0m\u001b[0;34m(\u001b[0m\u001b[0;36m1\u001b[0m\u001b[0;34m+\u001b[0m\u001b[0mtmax\u001b[0m\u001b[0;34m/\u001b[0m\u001b[0mdt\u001b[0m\u001b[0;34m,\u001b[0m\u001b[0mN\u001b[0m\u001b[0;34m)\u001b[0m\u001b[0;34m)\u001b[0m\u001b[0;34m\u001b[0m\u001b[0m\n\u001b[1;32m     40\u001b[0m     \u001b[0;32mfor\u001b[0m \u001b[0mi\u001b[0m \u001b[0;32min\u001b[0m \u001b[0mrange\u001b[0m\u001b[0;34m(\u001b[0m\u001b[0mN\u001b[0m\u001b[0;34m)\u001b[0m\u001b[0;34m:\u001b[0m\u001b[0;34m\u001b[0m\u001b[0m\n\u001b[0;32m---> 41\u001b[0;31m         \u001b[0mx\u001b[0m\u001b[0;34m,\u001b[0m\u001b[0ms\u001b[0m \u001b[0;34m=\u001b[0m \u001b[0mmarkov_sim\u001b[0m\u001b[0;34m(\u001b[0m\u001b[0;34m)\u001b[0m\u001b[0;34m\u001b[0m\u001b[0m\n\u001b[0m\u001b[1;32m     42\u001b[0m         \u001b[0mX\u001b[0m\u001b[0;34m[\u001b[0m\u001b[0;34m:\u001b[0m\u001b[0;34m,\u001b[0m\u001b[0mi\u001b[0m\u001b[0;34m]\u001b[0m \u001b[0;34m=\u001b[0m \u001b[0mx\u001b[0m\u001b[0;34m\u001b[0m\u001b[0m\n\u001b[1;32m     43\u001b[0m         \u001b[0mS\u001b[0m\u001b[0;34m[\u001b[0m\u001b[0;34m:\u001b[0m\u001b[0;34m,\u001b[0m\u001b[0mi\u001b[0m\u001b[0;34m]\u001b[0m \u001b[0;34m=\u001b[0m \u001b[0ms\u001b[0m\u001b[0;34m\u001b[0m\u001b[0m\n",
      "\u001b[0;32m<ipython-input-51-dddc4dfb13bf>\u001b[0m in \u001b[0;36mmarkov_sim\u001b[0;34m()\u001b[0m\n\u001b[1;32m     32\u001b[0m     \u001b[0;32mwhile\u001b[0m \u001b[0mt\u001b[0m \u001b[0;34m<\u001b[0m \u001b[0mtmax\u001b[0m\u001b[0;34m:\u001b[0m\u001b[0;34m\u001b[0m\u001b[0m\n\u001b[1;32m     33\u001b[0m         \u001b[0mt\u001b[0m \u001b[0;34m+=\u001b[0m \u001b[0mdt\u001b[0m\u001b[0;34m\u001b[0m\u001b[0m\n\u001b[0;32m---> 34\u001b[0;31m         \u001b[0mupdate\u001b[0m\u001b[0;34m(\u001b[0m\u001b[0mx\u001b[0m\u001b[0;34m,\u001b[0m\u001b[0ms\u001b[0m\u001b[0;34m)\u001b[0m\u001b[0;34m\u001b[0m\u001b[0m\n\u001b[0m\u001b[1;32m     35\u001b[0m     \u001b[0;32mreturn\u001b[0m \u001b[0mx\u001b[0m\u001b[0;34m,\u001b[0m\u001b[0ms\u001b[0m\u001b[0;34m\u001b[0m\u001b[0m\n\u001b[1;32m     36\u001b[0m \u001b[0;34m\u001b[0m\u001b[0m\n",
      "\u001b[0;32m<ipython-input-51-dddc4dfb13bf>\u001b[0m in \u001b[0;36mupdate\u001b[0;34m(x, s)\u001b[0m\n\u001b[1;32m     14\u001b[0m \u001b[0;32mdef\u001b[0m \u001b[0mupdate\u001b[0m\u001b[0;34m(\u001b[0m\u001b[0mx\u001b[0m\u001b[0;34m,\u001b[0m\u001b[0ms\u001b[0m\u001b[0;34m)\u001b[0m\u001b[0;34m:\u001b[0m\u001b[0;34m\u001b[0m\u001b[0m\n\u001b[1;32m     15\u001b[0m     \u001b[0;31m# Draw a new state\u001b[0m\u001b[0;34m\u001b[0m\u001b[0;34m\u001b[0m\u001b[0m\n\u001b[0;32m---> 16\u001b[0;31m     \u001b[0ms\u001b[0m\u001b[0;34m.\u001b[0m\u001b[0mappend\u001b[0m\u001b[0;34m(\u001b[0m\u001b[0mnp\u001b[0m\u001b[0;34m.\u001b[0m\u001b[0mrandom\u001b[0m\u001b[0;34m.\u001b[0m\u001b[0mchoice\u001b[0m\u001b[0;34m(\u001b[0m\u001b[0mrange\u001b[0m\u001b[0;34m(\u001b[0m\u001b[0;36m3\u001b[0m\u001b[0;34m)\u001b[0m\u001b[0;34m,\u001b[0m\u001b[0mp\u001b[0m\u001b[0;34m=\u001b[0m\u001b[0mQ\u001b[0m\u001b[0;34m[\u001b[0m\u001b[0;34m:\u001b[0m\u001b[0;34m,\u001b[0m\u001b[0ms\u001b[0m\u001b[0;34m[\u001b[0m\u001b[0;34m-\u001b[0m\u001b[0;36m1\u001b[0m\u001b[0;34m]\u001b[0m\u001b[0;34m]\u001b[0m\u001b[0;34m.\u001b[0m\u001b[0mflatten\u001b[0m\u001b[0;34m(\u001b[0m\u001b[0;34m)\u001b[0m\u001b[0;34m)\u001b[0m\u001b[0;34m)\u001b[0m\u001b[0;34m\u001b[0m\u001b[0m\n\u001b[0m\u001b[1;32m     17\u001b[0m     \u001b[0;31m# Update position\u001b[0m\u001b[0;34m\u001b[0m\u001b[0;34m\u001b[0m\u001b[0m\n\u001b[1;32m     18\u001b[0m     \u001b[0;32mif\u001b[0m \u001b[0ms\u001b[0m\u001b[0;34m[\u001b[0m\u001b[0;34m-\u001b[0m\u001b[0;36m1\u001b[0m\u001b[0;34m]\u001b[0m \u001b[0;34m==\u001b[0m \u001b[0;36m0\u001b[0m\u001b[0;34m:\u001b[0m\u001b[0;34m\u001b[0m\u001b[0m\n",
      "\u001b[0;32mmtrand.pyx\u001b[0m in \u001b[0;36mmtrand.RandomState.choice (numpy/random/mtrand/mtrand.c:10719)\u001b[0;34m()\u001b[0m\n",
      "\u001b[0;31mValueError\u001b[0m: probabilities are not non-negative"
     ]
    }
   ],
   "source": [
    "a_levels = np.linspace(0.01,0.99,10)\n",
    "b_levels = np.linspace(0.01,0.49,10)\n",
    "#state_distribution = []\n",
    "drift_fit,diff_fit = [],[]\n",
    "for a in a_levels:\n",
    "    for b in b_levels:\n",
    "        Q,p_state,p_bidir = get_Q(a,b)\n",
    "        t,X,S = sim_ensemble(500)\n",
    "\n",
    "        #state_distribution.append([np.mean(S[:,i]) for i in range(S.shape[1])])\n",
    "        print X.shape\n",
    "\n",
    "        meanX = np.array([np.mean(X[i,:]) for i in range(X.shape[0])])\n",
    "        varX = np.array([np.var(X[i,:]) for i in range(X.shape[0])])\n",
    "\n",
    "        drift_fit.append(stats.linregress(t,meanX)[0])\n",
    "        diff_fit.append(stats.linregress(t,varX)[0])"
   ]
  },
  {
   "cell_type": "code",
   "execution_count": 24,
   "metadata": {
    "collapsed": false
   },
   "outputs": [],
   "source": [
    "X = np.array(X)"
   ]
  },
  {
   "cell_type": "code",
   "execution_count": null,
   "metadata": {
    "collapsed": false
   },
   "outputs": [],
   "source": [
    "plt.figure()\n",
    "plt.plot(drift_fit,'ob')\n",
    "#plt.plot(a_levels,drift_fit,'ob')\n",
    "#plt.plot(a_levels,drift_theory,'-r')\n",
    "plt.ylim([0,1])\n",
    "plt.title('drift')\n",
    "\n",
    "plt.figure()\n",
    "plt.plot(np.log(diff_fit),'ob')\n",
    "#plt.plot(a_levels,np.log(diff_fit),'ob')\n",
    "#plt.plot(a_levels,np.log(diff_theory),'-r')\n",
    "plt.title('diffusion')"
   ]
  },
  {
   "cell_type": "code",
   "execution_count": null,
   "metadata": {
    "collapsed": false
   },
   "outputs": [],
   "source": [
    "plt.hist(state_distribution[-1])"
   ]
  },
  {
   "cell_type": "code",
   "execution_count": null,
   "metadata": {
    "collapsed": false
   },
   "outputs": [],
   "source": [
    "plt.hist([state_distribution[0]*120,state_distribution[-1]*120],20)"
   ]
  },
  {
   "cell_type": "code",
   "execution_count": null,
   "metadata": {
    "collapsed": false
   },
   "outputs": [],
   "source": [
    "plt.figure()\n",
    "plt.plot(varX)\n",
    "v_fit,D_fit = fit_drift_diffusion(p_bidir[2]-p_bidir[0],p_state[1])\n",
    "plt.plot(np.arange(0,tmax,dt)*D_fit,'-r')\n",
    "plt.show()"
   ]
  },
  {
   "cell_type": "code",
   "execution_count": 10,
   "metadata": {
    "collapsed": false
   },
   "outputs": [
    {
     "data": {
      "text/plain": [
       "1"
      ]
     },
     "execution_count": 10,
     "metadata": {},
     "output_type": "execute_result"
    }
   ],
   "source": [
    "np.argmax([0.5,1.0,0.5])"
   ]
  },
  {
   "cell_type": "code",
   "execution_count": null,
   "metadata": {
    "collapsed": false
   },
   "outputs": [],
   "source": [
    "drift_calc = 0.5\n",
    "plt.figure()\n",
    "plt.plot([np.mean(X[i,:]) for i in range(X.shape[0])])\n",
    "plt.plot(np.arange(0,tmax,dt)*v_fit,'-r')"
   ]
  },
  {
   "cell_type": "code",
   "execution_count": null,
   "metadata": {
    "collapsed": false
   },
   "outputs": [],
   "source": [
    "plt.hist(X[-1,:],30)"
   ]
  },
  {
   "cell_type": "code",
   "execution_count": null,
   "metadata": {
    "collapsed": false
   },
   "outputs": [],
   "source": [
    "x = np.arange(0,100,1)\n",
    "y = 2*x\n",
    "stats.linregress(x,y)[0]"
   ]
  },
  {
   "cell_type": "code",
   "execution_count": null,
   "metadata": {
    "collapsed": false
   },
   "outputs": [],
   "source": [
    "t"
   ]
  },
  {
   "cell_type": "code",
   "execution_count": 33,
   "metadata": {
    "collapsed": false
   },
   "outputs": [
    {
     "data": {
      "text/plain": [
       "1"
      ]
     },
     "execution_count": 33,
     "metadata": {},
     "output_type": "execute_result"
    }
   ],
   "source": [
    "np.random.choice(range(3),p=p_bidir)"
   ]
  },
  {
   "cell_type": "code",
   "execution_count": null,
   "metadata": {
    "collapsed": true
   },
   "outputs": [],
   "source": []
  }
 ],
 "metadata": {
  "kernelspec": {
   "display_name": "Python 2",
   "language": "python",
   "name": "python2"
  }
 },
 "nbformat": 4,
 "nbformat_minor": 0
}
