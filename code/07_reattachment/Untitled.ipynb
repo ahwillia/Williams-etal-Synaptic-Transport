{
 "cells": [
  {
   "cell_type": "code",
   "execution_count": 1,
   "metadata": {
    "collapsed": false
   },
   "outputs": [
    {
     "data": {
      "text/plain": [
       "[<matplotlib.lines.Line2D at 0x7f7fc5f76f50>]"
      ]
     },
     "execution_count": 1,
     "metadata": {},
     "output_type": "execute_result"
    },
    {
     "data": {
      "image/png": "[encoded data removed]",
      "text/plain": [
       "<matplotlib.figure.Figure at 0x7f7fc5f76e10>"
      ]
     },
     "metadata": {},
     "output_type": "display_data"
    }
   ],
   "source": [
    "from __future__ import division\n",
    "import numpy as np\n",
    "from scipy.integrate import odeint\n",
    "from scipy.linalg import expm # matrix exponential solves linear system\n",
    "import matplotlib.pyplot as plt\n",
    "from time import sleep\n",
    "%matplotlib inline\n",
    "\n",
    "plt.figure()\n",
    "plt.plot([1,2,3])"
   ]
  },
  {
   "cell_type": "code",
   "execution_count": 2,
   "metadata": {
    "collapsed": true
   },
   "outputs": [],
   "source": [
    "# JSAnimation import available at https://github.com/jakevdp/JSAnimation\n",
    "#from JSAnimation import IPython_display\n",
    "#from matplotlib import animation\n",
    "\n",
    "N = 100 # number of compartments\n",
    "x = np.linspace(0,1,N) # position along cable\n",
    "DC = 0.5 # diffusion coeff (normalized to compartment length)\n",
    "\n",
    "def get_target_profile(n_syn,syn_loc=None):\n",
    "    # Calculate target profile, y\n",
    "    if syn_loc is None: syn_loc = np.linspace(0.1,0.9,n_syn)\n",
    "    x = np.linspace(0,1,N)\n",
    "    y = np.zeros(N)\n",
    "    for i in syn_loc:\n",
    "        y += 0.5*np.exp(-abs(x - x[int(i*N)])*100)\n",
    "    return y\n",
    "\n",
    "def get_matrix(y,c_scale,d_scale,bias=0.0):\n",
    "    \"\"\"Calculates the state-transition matrix, A\"\"\"\n",
    "    \n",
    "    # detachment rates\n",
    "    c = c_scale*y\n",
    "    \n",
    "    # reattachment rates\n",
    "    d = d_scale*np.ones(N)\n",
    "    \n",
    "    # trafficking rates, constrain so that a+b = DC/2\n",
    "    a = np.linspace((DC/2.)+bias,(DC/2.),N-1)\n",
    "    b = np.linspace((DC/2.)-bias,(DC/2.),N-1)\n",
    "    \n",
    "    # State-transition matrix:\n",
    "    # \n",
    "    # A = [ A1 | A2\n",
    "    #       A3 | A4 ]\n",
    "    mid = -c\n",
    "    mid[:-1] -= a\n",
    "    mid[1:]  -= b\n",
    "    A1 = np.diag(a, -1) + np.diag(mid) + np.diag(b, 1) # movement on microtubules, detaching cargo lost\n",
    "    A2 = np.diag(d) # reattaching cargo recieved at microtubules\n",
    "    A3 = np.diag(c) # detaching cargo recieved at synapses\n",
    "    A4 = -np.diag(d) # reattaching cargo lost at synapses \n",
    "    \n",
    "    # State-transition matrix\n",
    "    A = np.array(np.bmat([[A1,A2],[A3,A4]]))\n",
    "    \n",
    "    # initial condition\n",
    "    u0 = np.zeros(2*N)\n",
    "    u0[0] = np.sum(y)\n",
    "    \n",
    "    return A,u0\n",
    "\n",
    "def sim(cs,ds,t,n_syn=6,bias=0.0,filename=None):\n",
    "    y = get_target_profile(n_syn)#np.ones(N)/N\n",
    "    A,u0 = get_matrix(y,cs,ds,bias)\n",
    "    \n",
    "    if filename is not None:\n",
    "        save_snapshots(A,u0,filename)\n",
    "    \n",
    "    # animation figure\n",
    "    fig = plt.figure()\n",
    "    ax1 = plt.subplot(2,1,1)\n",
    "    plt.title('concentration on microtubule')\n",
    "    line1, = ax1.plot([],[],lw=2)\n",
    "    plt.ylim([-0.02,0.2]),plt.xlim([0,1])\n",
    "    ax2 = plt.subplot(2,1,2)\n",
    "    plt.title('detached concentration')\n",
    "    line2, = ax2.plot([],[],lw=2)\n",
    "    plt.ylim([-0.02,1.0]),plt.xlim([0,1])\n",
    "    plt.tight_layout()\n",
    "\n",
    "    def init():\n",
    "        line1.set_data(x, u0[:N])\n",
    "        line2.set_data(x, u0[N:])\n",
    "        return line1,line2,\n",
    "\n",
    "    def animate(i):\n",
    "        u = np.dot(expm(A*t[i]),u0)\n",
    "        line1.set_data(x, u[:N])\n",
    "        line2.set_data(x, u[N:])\n",
    "        ax1.set_title('concentration on microtubule: '+str(np.round(t[i]/60))+' mins')\n",
    "        ax2.set_title('detached concentration: '+str(np.round(100*np.sum(u[N:])/np.sum(u),2))+'% detached')\n",
    "        return line1,line2,\n",
    "        \n",
    "    return fig,animate,init\n",
    "\n",
    "def save_snapshots(A,u0,filename):\n",
    "    u75 = np.dot(expm(A*(75*60)),u0)\n",
    "    u245 = np.dot(expm(A*(245*60)),u0)\n",
    "    uss = np.dot(expm(A*(1440*60)),u0) # steady-state profile\n",
    "    names = ['75mins','245mins','1 day']\n",
    "\n",
    "    for u,n in zip([u75,u245,uss],names):\n",
    "        plt.figure()\n",
    "        plt.title(n)\n",
    "        plt.plot(x,u[:N],'-b',lw=2)\n",
    "        plt.plot(x,u[N:],'-r',lw=2)\n",
    "        plt.ylim([-0.02,1.3]),plt.xlim([0,1])\n",
    "        plt.legend(('on microtubule','detached'))\n",
    "        plt.tight_layout()\n",
    "        plt.savefig(filename+'_'+n+'.svg')\n",
    "        plt.close()\n",
    "\n",
    "def calc_tradeoff_curve(y,cs):\n",
    "    tau,excess = [],[]\n",
    "    for ds in np.logspace(-2,0,5):\n",
    "        A,u0 = get_matrix(y,cs,ds*cs)\n",
    "        tss,uss = calc_time_to_ss(A)\n",
    "        uss = np.dot(expm(A*10*tss),u0) # steady-state profile\n",
    "        excess.append(np.sum(uss[:N])/np.sum(uss))\n",
    "        tau.append(tss)\n",
    "    return np.array(tau),np.array(excess)\n",
    "\n",
    "def calc_time_to_ss(A,ss_tol=1e-6,bound_tol=1.0):\n",
    "    # calculate number of seconds to reach steady-state (within tol)\n",
    "    u0 = np.ones(N*2)\n",
    "    u0[0] = 1.0\n",
    "    \n",
    "    tt = 1.0\n",
    "    u = np.dot(expm(A*tt),u0)\n",
    "    upper_bound,lower_bound = 1e10,0.0\n",
    "    while (upper_bound - lower_bound) > bound_tol:\n",
    "        tt = lower_bound + (upper_bound-lower_bound)/2\n",
    "        u = np.dot(expm(A*tt),u0)\n",
    "        if np.linalg.norm(np.dot(A,u))/np.sqrt(N) > ss_tol:\n",
    "            # not converged to steady-state\n",
    "            lower_bound = tt\n",
    "        else:\n",
    "            # converged to steady-state\n",
    "            upper_bound = tt\n",
    "    tss = lower_bound + (upper_bound-lower_bound)/2\n",
    "    return tss,np.dot(expm(A*tss*10),u0)\n",
    "\n",
    "def err_vs_time(cs,ds,n_syn=6,bias=0.0,tmax=5.5):\n",
    "    y = get_target_profile(n_syn)#np.ones(N)/N\n",
    "    A,u0 = get_matrix(y,cs,ds,bias)\n",
    "    u0[1] = 1.0\n",
    "    uss = np.dot(expm(A*(10**(tmax+1))),u0)\n",
    "    t = np.logspace(1.5,tmax,tmax*6)\n",
    "    err,excess = [],[] \n",
    "    for tt in t:\n",
    "        u = np.dot(expm(A*tt),u0)\n",
    "        #err.append(np.mean( 100*np.abs(u[N:]-uss[N:])/u[N:] ))\n",
    "        err.append( 100*np.mean( np.abs(u[N:]-uss[N:])/uss[N:]) )\n",
    "        excess.append( 100*np.sum(u[:N])/np.sum(u) )\n",
    "    return t,err,excess"
   ]
  },
  {
   "cell_type": "code",
   "execution_count": 4,
   "metadata": {
    "collapsed": false
   },
   "outputs": [],
   "source": [
    "y = get_target_profile(6)\n",
    "cs = 0.0001\n",
    "A,u0 = get_matrix(y,cs,cs)"
   ]
  },
  {
   "cell_type": "code",
   "execution_count": null,
   "metadata": {
    "collapsed": false
   },
   "outputs": [],
   "source": [
    "np.dot(expm(A),u0)"
   ]
  },
  {
   "cell_type": "code",
   "execution_count": null,
   "metadata": {
    "collapsed": true
   },
   "outputs": [],
   "source": [
    "A"
   ]
  }
 ],
 "metadata": {
  "kernelspec": {
   "display_name": "Python 2",
   "language": "python",
   "name": "python2"
  },
  "language_info": {
   "codemirror_mode": {
    "name": "ipython",
    "version": 2
   },
   "file_extension": ".py",
   "mimetype": "text/x-python",
   "name": "python",
   "nbconvert_exporter": "python",
   "pygments_lexer": "ipython2",
   "version": "2.7.11"
  }
 },
 "nbformat": 4,
 "nbformat_minor": 0
}
