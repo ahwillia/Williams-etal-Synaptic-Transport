{
 "metadata": {
  "name": "",
  "signature": "sha256:a1bb0857f64661673a6f4ccdb8a966a698c4e7dceb0790f9cf317813bab1ec62"
 },
 "nbformat": 3,
 "nbformat_minor": 0,
 "worksheets": [
  {
   "cells": [
    {
     "cell_type": "code",
     "collapsed": false,
     "input": [
      "import multiprocessing as mp\n",
      "import random\n",
      "import string\n",
      "\n",
      "# Define an output queue\n",
      "output = mp.Queue()\n",
      "\n",
      "# define a example function\n",
      "def rand_string(length, output):\n",
      "    \"\"\" Generates a random string of numbers, lower- and uppercase chars. \"\"\"\n",
      "    rand_str = ''.join(random.choice(\n",
      "                    string.ascii_lowercase\n",
      "                    + string.ascii_uppercase\n",
      "                    + string.digits)\n",
      "               for i in range(length))\n",
      "    output.put(rand_str)\n",
      "\n",
      "# Setup a list of processes that we want to run\n",
      "processes = [mp.Process(target=rand_string, args=(x+2, output)) for x in range(4)]\n",
      "\n",
      "# Run processes\n",
      "for p in processes:\n",
      "    p.start()\n",
      "\n",
      "# Exit the completed processes\n",
      "for p in processes:\n",
      "    p.join()\n",
      "\n",
      "# Get process results from the output queue\n",
      "results = [output.get() for p in processes]\n",
      "\n",
      "print(results)"
     ],
     "language": "python",
     "metadata": {},
     "outputs": [
      {
       "output_type": "stream",
       "stream": "stdout",
       "text": [
        "['ZI', 'ePt', 'Vudp', 'GunHb']\n"
       ]
      }
     ],
     "prompt_number": 2
    },
    {
     "cell_type": "code",
     "collapsed": false,
     "input": [
      "parfor i in range(10):\n",
      "    arr[i] = func(i)"
     ],
     "language": "python",
     "metadata": {},
     "outputs": []
    }
   ],
   "metadata": {}
  }
 ]
}