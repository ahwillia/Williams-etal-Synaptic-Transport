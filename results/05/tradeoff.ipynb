{
 "cells": [
  {
   "cell_type": "code",
   "execution_count": 1,
   "metadata": {
    "collapsed": false
   },
   "outputs": [
    {
     "name": "stdout",
     "output_type": "stream",
     "text": [
      "/home/alex/Dropbox/Williams-etal-Synaptic-Transport/code/05\n",
      "h.mod kadist.mod kaprox.mod kdrca1.mod km.mod na3n.mod naxn.mod vecevent.mod\n",
      "h.mod kadist.mod kaprox.mod kdrca1.mod km.mod na3n.mod naxn.mod vecevent.mod\n",
      "\"/home/alex/neuron/nrn-7.4/share/nrn/libtool\"  --mode=compile gcc -DHAVE_CONFIG_H  -I. -I.. -I\"/home/alex/neuron/nrn-7.4/include/nrn\" -I\"/home/alex/neuron/nrn-7.4/x86_64/lib\"      -g -O2 -c -o mod_func.lo mod_func.c\n",
      "libtool: compile:  gcc -DHAVE_CONFIG_H -I. -I.. -I/home/alex/neuron/nrn-7.4/include/nrn -I/home/alex/neuron/nrn-7.4/x86_64/lib -g -O2 -c mod_func.c  -fPIC -DPIC -o .libs/mod_func.o\n",
      "\"/home/alex/neuron/nrn-7.4/share/nrn/libtool\"  --mode=link gcc -module  -g -O2    -o libnrnmech.la -rpath \"/home/alex/neuron/nrn-7.4/x86_64/lib\"  h.lo kadist.lo kaprox.lo kdrca1.lo km.lo na3n.lo naxn.lo vecevent.lo mod_func.lo  -L\"/home/alex/neuron/nrn-7.4/x86_64/lib\" -lnrnoc -loc -lmemacs -lnrnmpi -lscopmath -lsparse13 -lreadline -lncurses -L\"/home/alex/neuron/nrn-7.4/x86_64/lib\" \"/home/alex/neuron/nrn-7.4/x86_64/lib/libnrniv.la\" -livoc -lneuron_gnu -lmeschach -lsundials       -lm -ldl\n",
      "libtool: link: rm -fr  .libs/libnrnmech.la .libs/libnrnmech.lai .libs/libnrnmech.so .libs/libnrnmech.so.0 .libs/libnrnmech.so.0.0.0\n",
      "libtool: link: gcc -shared  -fPIC -DPIC  .libs/h.o .libs/kadist.o .libs/kaprox.o .libs/kdrca1.o .libs/km.o .libs/na3n.o .libs/naxn.o .libs/vecevent.o .libs/mod_func.o   -Wl,-rpath -Wl,/home/alex/neuron/nrn-7.4/x86_64/lib -Wl,-rpath -Wl,/home/alex/neuron/nrn-7.4/x86_64/lib -L/home/alex/neuron/nrn-7.4/x86_64/lib /home/alex/neuron/nrn-7.4/x86_64/lib/libnrnoc.so /home/alex/neuron/nrn-7.4/x86_64/lib/liboc.so /home/alex/neuron/nrn-7.4/x86_64/lib/libmemacs.so /home/alex/neuron/nrn-7.4/x86_64/lib/libnrnmpi.so /home/alex/neuron/nrn-7.4/x86_64/lib/libscopmath.so /home/alex/neuron/nrn-7.4/x86_64/lib/libsparse13.so /home/alex/neuron/nrn-7.4/x86_64/lib/libreadline.so -lncurses /home/alex/neuron/nrn-7.4/x86_64/lib/libnrniv.so /home/alex/neuron/nrn-7.4/x86_64/lib/libivoc.so /home/alex/neuron/nrn-7.4/x86_64/lib/libneuron_gnu.so /home/alex/neuron/nrn-7.4/x86_64/lib/libmeschach.so /home/alex/neuron/nrn-7.4/x86_64/lib/libsundials.so -lm -ldl  -O2   -pthread -Wl,-soname -Wl,libnrnmech.so.0 -o .libs/libnrnmech.so.0.0.0\n",
      "libtool: link: (cd \".libs\" && rm -f \"libnrnmech.so.0\" && ln -s \"libnrnmech.so.0.0.0\" \"libnrnmech.so.0\")\n",
      "libtool: link: (cd \".libs\" && rm -f \"libnrnmech.so\" && ln -s \"libnrnmech.so.0.0.0\" \"libnrnmech.so\")\n",
      "libtool: link: ( cd \".libs\" && rm -f \"libnrnmech.la\" && ln -s \"../libnrnmech.la\" \"libnrnmech.la\" )\n",
      "Successfully created x86_64/special\n"
     ]
    }
   ],
   "source": [
    "%%bash\n",
    "nrnivmodl"
   ]
  },
  {
   "cell_type": "code",
   "execution_count": 2,
   "metadata": {
    "collapsed": false
   },
   "outputs": [],
   "source": [
    "# Download NEURON: http://www.neuron.yale.edu/neuron/download\n",
    "# Download PyNeuronToolbox: https://github.com/ahwillia/PyNeuron-Toolbox\n",
    "\n",
    "from neuron import h\n",
    "import numpy as np\n",
    "import pylab as plt\n",
    "import scipy.linalg\n",
    "from PyNeuronToolbox.record import ez_record,ez_convert\n",
    "from PyNeuronToolbox.synapses import add_exp2\n",
    "import time\n",
    "%matplotlib inline\n",
    "np.random.seed(123456789)\n",
    "\n",
    "\n",
    "# Load morphology and other stuff\n",
    "# --> SegLists: soma[2], dend[74], dend_5[37], apic[42], axon[1]\n",
    "# --> Files from Migliore & Migliore (2012)\n",
    "# --> CA1 pyramidal neuron\n",
    "h.load_file('stdrun.hoc')\n",
    "h.xopen('ri06.hoc')\n",
    "h.xopen('fixnseg.hoc')\n",
    "h.xopen('5a_nogui.hoc')\n",
    "h.tstop = 700.0\n",
    "\n",
    "# Function to get a random segment within a region of the dendrite\n",
    "def randseg(region=None):\n",
    "    tmp = np.random.uniform(0,1)\n",
    "    if region is None:\n",
    "        region = np.random.choice(['apic','dend_5','dend'])\n",
    "    if region == 'apic':\n",
    "        comp = h.apic[int(np.random.uniform(22,30))]\n",
    "    elif region == 'dend_5':\n",
    "        comp = h.dend_5[int(np.random.uniform(22,28))]\n",
    "    elif region == 'dend':\n",
    "        comp = h.dend[int(np.random.uniform(60,70))]\n",
    "    return comp(tmp)\n",
    "\n",
    "# Add a bunch of synapses\n",
    "n_syn = 120\n",
    "syn_rate = 50.0  # Hz\n",
    "syndata = []\n",
    "for i in range(n_syn): \n",
    "    spktimes = np.random.uniform(1,h.tstop-1,int(syn_rate*h.tstop/1e3))\n",
    "    syndata.append(add_exp2(h,randseg(),spktimes,e=0,tau1=0.5,tau2=20,weight=0.001))"
   ]
  },
  {
   "cell_type": "code",
   "execution_count": 3,
   "metadata": {
    "collapsed": false
   },
   "outputs": [],
   "source": [
    "from PyNeuronToolbox.morphology import dist_between,allsec_preorder\n",
    "\n",
    "def dist_to_soma(segment):\n",
    "    return dist_between(h,h.soma[0](0.5),segment)\n",
    "\n",
    "#seglist in pre-order\n",
    "sec_list = allsec_preorder(h)\n",
    "seg_list = []\n",
    "for sec in sec_list:\n",
    "    locs = np.linspace(0,1,sec.nseg+2)[1:-1]\n",
    "    for loc in locs:\n",
    "        seg_list.append(sec(loc))\n",
    "n = len(seg_list)"
   ]
  },
  {
   "cell_type": "code",
   "execution_count": 4,
   "metadata": {
    "collapsed": false
   },
   "outputs": [],
   "source": [
    "# plt.figure()\n",
    "leaf_dists = {}\n",
    "for sec in sec_list:\n",
    "    sref = h.SectionRef(sec=sec)\n",
    "    if len(sref.child) == 0:\n",
    "        leaf_dists[dist_to_soma(sec(0.5))] = sec\n",
    "\n",
    "# plt.plot(leaf_dists.keys())\n",
    "# plt.show()"
   ]
  },
  {
   "cell_type": "code",
   "execution_count": 5,
   "metadata": {
    "collapsed": false
   },
   "outputs": [],
   "source": [
    "max_dist = max(leaf_dists.keys())\n",
    "\n",
    "# find primary neurite sections\n",
    "primary = []\n",
    "sref = h.SectionRef(sec=leaf_dists[max_dist])\n",
    "while sref.has_parent():\n",
    "    primary.append(sref.sec)\n",
    "    sref = h.SectionRef(sec=sref.parent)\n",
    "\n",
    "# find segments in primary neurite\n",
    "primary_sec = np.zeros(len(sec_list),dtype=bool)\n",
    "for (i,sec1) in enumerate(sec_list):\n",
    "    for sec2 in primary:\n",
    "        if sec1 == sec2 and i < 61:\n",
    "            primary_sec[i] = 1\n",
    "\n",
    "primary_segs = []\n",
    "for (i,sec) in enumerate(sec_list):\n",
    "    for seg in range(sec.nseg):\n",
    "        primary_segs.append(primary_sec[i])"
   ]
  },
  {
   "cell_type": "code",
   "execution_count": 6,
   "metadata": {
    "collapsed": false
   },
   "outputs": [],
   "source": [
    "from PyNeuronToolbox.morphology import shapeplot,shapeplot_animate\n",
    "from mpl_toolkits.mplot3d import Axes3D\n",
    "from JSAnimation import IPython_display\n",
    "from matplotlib import animation\n",
    "from matplotlib.pyplot import cm\n",
    "\n",
    "# fig = plt.figure(figsize=(8,8))\n",
    "# shapeax = plt.subplot(111, projection='3d')\n",
    "# lines = shapeplot(h,shapeax,cvals=primary_segs,\\\n",
    "#                   cmap=plt.cm.cool,order='pre',lw=2)\n",
    "# shapeax.view_init(elev=80,azim=-90)\n",
    "# plt.axis('off')\n",
    "# plt.title('primary neurite',fontweight='bold',fontsize=14)"
   ]
  },
  {
   "cell_type": "code",
   "execution_count": 7,
   "metadata": {
    "collapsed": false
   },
   "outputs": [],
   "source": [
    "(v,v_labels) = ez_record(h,order='pre')\n",
    "h.finitialize() # has to come after ez_record\n",
    "\n",
    "start_time = time.time()\n",
    "while h.t < h.tstop:\n",
    "    h.fadvance()\n",
    "elapsed_time = time.time() - start_time\n",
    "\n",
    "v = ez_convert(v)\n",
    "t = np.linspace(0,h.t,v.shape[0])\n",
    "v_avg = np.mean(v,axis=0)"
   ]
  },
  {
   "cell_type": "code",
   "execution_count": 8,
   "metadata": {
    "collapsed": false
   },
   "outputs": [],
   "source": [
    "def sushi_system(a,b,c,d):\n",
    "    \"\"\"\n",
    "    Returns a matrix A, such that dx/dt = A*x\n",
    "    \n",
    "    N = # of compartments\n",
    "    A is (2N x 2N) matrix\n",
    "    x is (2N x 1) vector.\n",
    "      The first N elements correspond to concentrations of u (molecules in transit)\n",
    "      The second half correspond to concentrations of u-star (active molecules)\n",
    "    The trafficking rate constants along the microtubules are given by the vectors \"a\" and \"b\"\n",
    "    The rate constants for u turning into u* is given by the vector \"c\"\n",
    "    The rate constants for the degradation of u* is given by the vector \"d\"\n",
    "    \"\"\"\n",
    "    # number of compartments\n",
    "    N = len(d)\n",
    "    \n",
    "    ## State-space equations\n",
    "    #  dx/dt = Ax + Bu\n",
    "    A = np.zeros((2*N,2*N))\n",
    "\n",
    "    # Trafficking along belt\n",
    "    # Iterative traversal of dendritic tree in pre-order\n",
    "    i = 0\n",
    "    section = None\n",
    "    parentStack = [(None,h.soma[0])]\n",
    "    while len(parentStack)>0:\n",
    "        # Get next section to traverse\n",
    "        #  --> p is parent index, section is h.Section object\n",
    "        (p,section) = parentStack.pop()\n",
    "        \n",
    "        # Trafficking to/from parent\n",
    "        if p is not None:\n",
    "            # Out of parent, into child\n",
    "            ai = a.pop()\n",
    "            A[p,p] += -ai\n",
    "            A[i,p] += ai\n",
    "            # Into parent, out of child\n",
    "            bi = b.pop()\n",
    "            A[p,i] += bi\n",
    "            A[i,i] += -bi\n",
    "        \n",
    "        # visit all segments in compartment\n",
    "        for (j,seg) in enumerate(section):\n",
    "            # Deal with out/into rates within compartment, just tridiag matrix\n",
    "            if j>0:\n",
    "                # Out of parent, into child\n",
    "                ai = a.pop()\n",
    "                A[i-1,i-1] += -ai\n",
    "                A[i,i-1] += ai\n",
    "                # Into parent, out of child\n",
    "                bi = b.pop()\n",
    "                A[i-1,i] += bi\n",
    "                A[i,i] += -bi\n",
    "            # move onto next compartment\n",
    "            i += 1\n",
    "        \n",
    "        # now visit children in pre-order\n",
    "        child_list = list(h.SectionRef(sec=section).child)\n",
    "        if child_list is not None:\n",
    "            child_list.reverse()\n",
    "        for c_sec in child_list:\n",
    "            parentStack.append([i-1,c_sec]) # append parent index and child\n",
    "    \n",
    "    # Trafficking off the belt\n",
    "    for i in range(N):\n",
    "        A[i,i] += -c[i]\n",
    "        A[i+N,i] += c[i]\n",
    "\n",
    "    # Degradation after being taken off the belt\n",
    "    for i in range(N):\n",
    "        A[i+N,i+N] = -d[i]\n",
    "    \n",
    "    return A"
   ]
  },
  {
   "cell_type": "code",
   "execution_count": 9,
   "metadata": {
    "collapsed": false
   },
   "outputs": [],
   "source": [
    "n = len(v_avg)\n",
    "\n",
    "def trafficking_solution(utarg):\n",
    "    \"\"\" Solve the problem by tuning trafficking rates, like Figs 1 and 2. \"\"\"\n",
    "    x = []\n",
    "    \n",
    "    # Iterative traversal of dendritic tree in pre-order\n",
    "    i = 0\n",
    "    section = None\n",
    "    parentStack = [(None,h.soma[0])]\n",
    "    while len(parentStack)>0:\n",
    "        # Get next section to traverse\n",
    "        #  --> p is parent index, section is h.Section object\n",
    "        (p,section) = parentStack.pop()\n",
    "        \n",
    "        # Trafficking to/from parent\n",
    "        if p is not None:\n",
    "            mp = utarg[p] # concentration in parent\n",
    "            mc = utarg[i] # concentration in child\n",
    "            x.insert(0,mp/mc)\n",
    "        \n",
    "        # visit all segments in compartment\n",
    "        for (j,seg) in enumerate(section):\n",
    "            # Deal with out/into rates within compartment, just tridiag matrix\n",
    "            if j>0:\n",
    "                mp = utarg[i-1]\n",
    "                mc = utarg[i]\n",
    "                x.insert(0,mp/mc)\n",
    "                \n",
    "            # move onto next compartment\n",
    "            i += 1\n",
    "        \n",
    "        # now visit children in pre-order\n",
    "        child_list = list(h.SectionRef(sec=section).child)\n",
    "        if child_list is not None:\n",
    "            child_list.reverse()\n",
    "        for c_sec in child_list:\n",
    "            parentStack.append([i-1,c_sec]) # append parent index and child\n",
    "    \n",
    "    # return calculated guesses (flip, up/down since get_deriv pops from start)\n",
    "    return np.array(x)\n",
    "\n",
    "def get_sys_matrix(utarg,F=0.5,timescale=1e-3):\n",
    "    # F is a mixing factor between 0 and 1\n",
    "    # --> F=0 produces uniform transport strategy\n",
    "    # --> F=1 produces bottleneck strategy\n",
    "    K = np.sum(utarg)/n\n",
    "    x = trafficking_solution(F*utarg + (1-F)*K)\n",
    "    a = list((1/(1+x)))\n",
    "    b = list((1/(1+x**-1)))\n",
    "    d = list(np.zeros(n))#list(np.ones(n)*1e-7)\n",
    "    c = list(timescale*utarg/(F*utarg + (1-F)*K))\n",
    "    A = sushi_system(a,b,c,d)\n",
    "    return A"
   ]
  },
  {
   "cell_type": "code",
   "execution_count": 10,
   "metadata": {
    "collapsed": false
   },
   "outputs": [
    {
     "name": "stdout",
     "output_type": "stream",
     "text": [
      "742\n"
     ]
    }
   ],
   "source": [
    "# Target spatial distribution:\n",
    "utarg = (v_avg-np.min(v_avg))/(np.max(v_avg)-np.min(v_avg))*0.9 + 0.1\n",
    "print len(utarg)\n",
    "\n",
    "# matrix exponential used to solve linear system\n",
    "from scipy.linalg import expm\n",
    "\n",
    "# sparse matrix exponential\n",
    "import scipy.sparse.linalg as sparse\n",
    "\n",
    "# initial condition, u starts only in soma and is trafficked out to dendrites\n",
    "u0 = np.zeros(2*n)\n",
    "u0[0] = 1.0  # compartment 0 is the soma"
   ]
  },
  {
   "cell_type": "code",
   "execution_count": 11,
   "metadata": {
    "collapsed": false
   },
   "outputs": [],
   "source": [
    "def snap_ss(u_ss,name,clim=[0,max(utarg)]):\n",
    "    fig = plt.figure(figsize=(8,8))\n",
    "    shapeax = plt.subplot(111, projection='3d')\n",
    "    lines = shapeplot(h,shapeax,cvals=u_ss[n:],clim=clim,\\\n",
    "                      cmap=plt.cm.cool,order='pre',lw=2)\n",
    "    shapeax.view_init(elev=80,azim=-90)\n",
    "    plt.title('steady-state',fontweight='bold',fontsize=14)\n",
    "\n",
    "    # colorbar\n",
    "    sm = plt.cm.ScalarMappable(cmap=plt.cm.cool, norm=plt.Normalize(clim[0],clim[1])) \n",
    "    sm._A = []\n",
    "    plt.colorbar(sm, shrink=0.5)\n",
    "    plt.tight_layout()\n",
    "    plt.axis('off')\n",
    "    #plt.savefig(name+'.svg')"
   ]
  },
  {
   "cell_type": "markdown",
   "metadata": {},
   "source": [
    "First Transport Pattern: Distal transport alone\n",
    "-----"
   ]
  },
  {
   "cell_type": "code",
   "execution_count": 12,
   "metadata": {
    "collapsed": false
   },
   "outputs": [
    {
     "name": "stdout",
     "output_type": "stream",
     "text": [
      "* * * * * * * * * * * * * * * * * * * *\n"
     ]
    }
   ],
   "source": [
    "# Distal inputs alone\n",
    "utarg = np.ones(len(seg_list))\n",
    "utarg[260:393] *= 10\n",
    "utarg[393:] *= 1e-3 # no proximal trafficking\n",
    "utarg /= np.sum(utarg)\n",
    "\n",
    "# Solve steady-state for both trafficking strategies\n",
    "timescale_ax = np.logspace(-5,-3,10)\n",
    "err = [[],[]]\n",
    "tau = [[],[]]\n",
    "for F in [0,1]:\n",
    "    for ts in timescale_ax:\n",
    "        print '*',\n",
    "        A = get_sys_matrix(utarg,F=F,timescale=ts)\n",
    "        u_ss = np.dot(expm(1e6*A),u0)\n",
    "        w,v = np.linalg.eig(A[:n,:n])\n",
    "        tau[F].append((-np.max(w))**-1)\n",
    "        err[F].append(np.sum(np.abs(u_ss[n:]-utarg))) # L1 error"
   ]
  },
  {
   "cell_type": "code",
   "execution_count": 13,
   "metadata": {
    "collapsed": false
   },
   "outputs": [
    {
     "name": "stderr",
     "output_type": "stream",
     "text": [
      "/home/alex/anaconda2/lib/python2.7/site-packages/numpy/core/numeric.py:482: ComplexWarning: Casting complex values to real discards the imaginary part\n",
      "  return array(a, dtype, copy=False, order=order)\n"
     ]
    },
    {
     "data": {
      "image/png": "[encoded data removed]",
      "text/plain": [
       "<matplotlib.figure.Figure at 0x7f9349d96850>"
      ]
     },
     "metadata": {},
     "output_type": "display_data"
    },
    {
     "data": {
      "image/png": "[encoded data removed]",
      "text/plain": [
       "<matplotlib.figure.Figure at 0x7f9349d42190>"
      ]
     },
     "metadata": {},
     "output_type": "display_data"
    }
   ],
   "source": [
    "plt.figure(figsize=(4,5))\n",
    "plt.plot(timescale_ax**-1,err[0],'o-b')\n",
    "plt.plot(timescale_ax**-1,err[1],'o-r')\n",
    "plt.xlabel('convergence time constant',fontweight='bold')\n",
    "plt.ylabel('L1 error / non-specificity',fontweight='bold')\n",
    "plt.xscale('log')\n",
    "plt.legend(['uniform transport','transport w/ bottlenecks'])\n",
    "#plt.savefig('tradeoff_distal.svg')\n",
    "\n",
    "plt.figure()\n",
    "plt.plot(tau[0],err[0],'o-b')\n",
    "plt.plot(tau[1],err[1],'o-r')\n",
    "plt.xscale('log')\n",
    "plt.show()"
   ]
  },
  {
   "cell_type": "code",
   "execution_count": 14,
   "metadata": {
    "collapsed": false
   },
   "outputs": [
    {
     "name": "stdout",
     "output_type": "stream",
     "text": [
      "* * * * * * * * * * * * * * * * * * * *\n"
     ]
    }
   ],
   "source": [
    "# Distal and Proximal together\n",
    "utarg = np.ones(len(seg_list))\n",
    "utarg[:393] *= 10\n",
    "utarg[393:] *= 1e-3 # no trafficking to basal dend\n",
    "utarg /= np.sum(utarg)\n",
    "\n",
    "# Solve steady-state for both trafficking strategies\n",
    "err = [[],[]]\n",
    "tau = [[],[]]\n",
    "for F in [0,1]:\n",
    "    for ts in timescale_ax:\n",
    "        print '*',\n",
    "        A = get_sys_matrix(utarg,F=F,timescale=ts)\n",
    "        u_ss = np.dot(expm(1e6*A),u0)\n",
    "        w,v = np.linalg.eig(A[:n,:n])\n",
    "        tau[F].append((-np.max(w))**-1)\n",
    "        err[F].append(np.sum(np.abs(u_ss[n:]-utarg))) # L1 error"
   ]
  },
  {
   "cell_type": "code",
   "execution_count": 15,
   "metadata": {
    "collapsed": false
   },
   "outputs": [
    {
     "data": {
      "image/png": "[encoded data removed]",
      "text/plain": [
       "<matplotlib.figure.Figure at 0x7f934990c250>"
      ]
     },
     "metadata": {},
     "output_type": "display_data"
    },
    {
     "data": {
      "image/png": "[encoded data removed]",
      "text/plain": [
       "<matplotlib.figure.Figure at 0x7f9349af7410>"
      ]
     },
     "metadata": {},
     "output_type": "display_data"
    }
   ],
   "source": [
    "plt.figure(figsize=(4,5))\n",
    "plt.plot(timescale_ax**-1,err[0],'o-b')\n",
    "plt.plot(timescale_ax**-1,err[1],'o-r')\n",
    "plt.xlabel('convergence time constant',fontweight='bold')\n",
    "plt.ylabel('L1 error / non-specificity',fontweight='bold')\n",
    "plt.xscale('log')\n",
    "plt.legend(['uniform transport','transport w/ bottlenecks'])\n",
    "#plt.savefig('tradeoff_proxdist.svg')\n",
    "\n",
    "plt.figure()\n",
    "plt.plot(tau[0],err[0],'o-b')\n",
    "plt.plot(tau[1],err[1],'o-r')\n",
    "plt.xscale('log')\n",
    "plt.show()"
   ]
  }
 ],
 "metadata": {
  "kernelspec": {
   "display_name": "Python 2",
   "language": "python",
   "name": "python2"
  },
  "language_info": {
   "codemirror_mode": {
    "name": "ipython",
    "version": 2
   },
   "file_extension": ".py",
   "mimetype": "text/x-python",
   "name": "python",
   "nbconvert_exporter": "python",
   "pygments_lexer": "ipython2",
   "version": "2.7.12"
  }
 },
 "nbformat": 4,
 "nbformat_minor": 0
}
